{
 "cells": [
  {
   "cell_type": "code",
   "execution_count": 11,
   "metadata": {},
   "outputs": [],
   "source": [
    "import os\n",
    "from dotenv import load_dotenv\n",
    "\n",
    "load_dotenv()\n",
    "\n",
    "#OPENAI_API_KEY = os.getenv(\"OPENAI_API_KEY\")\n",
    "\n",
    "#MODEL = \"gpt-3.5\"\n",
    "MODEL = \"llama2\""
   ]
  },
  {
   "cell_type": "code",
   "execution_count": 12,
   "metadata": {},
   "outputs": [
    {
     "name": "stderr",
     "output_type": "stream",
     "text": [
      "/Users/subhanjanbasu/Desktop/local-model/rag/lib/python3.9/site-packages/urllib3/__init__.py:35: NotOpenSSLWarning: urllib3 v2 only supports OpenSSL 1.1.1+, currently the 'ssl' module is compiled with 'LibreSSL 2.8.3'. See: https://github.com/urllib3/urllib3/issues/3020\n",
      "  warnings.warn(\n"
     ]
    }
   ],
   "source": [
    "#from langchain_openai.chat_models import ChatOpenAI\n",
    "from langchain_community.llms import Ollama\n",
    "\n",
    "#model = ChatOpenAI(api_key=OPENAI_API_KEY, model=MODEL)\n",
    "model  = Ollama(model=MODEL)"
   ]
  },
  {
   "cell_type": "code",
   "execution_count": 13,
   "metadata": {},
   "outputs": [
    {
     "data": {
      "text/plain": [
       "[Document(page_content='Nutritional\\nAdvice\\nfor\\nYoung\\nAdolescents\\n(Boys\\nand\\nGirls)\\nAdolescence,\\nspanning\\nthe\\nages\\nof\\n10\\nto\\n19,\\nis\\na\\ncritical\\nperiod\\nmarked\\nby\\nrapid\\ngrowth\\nand\\nnumerous\\nphysical,\\nemotional,\\nand\\ncognitive\\nchanges.\\nProper\\nnutrition\\nduring\\nthis\\ntime\\nis\\nparamount\\nto\\nsupport\\nthis\\ndevelopment\\nand\\nestablish\\na\\nfoundation\\nfor\\nlong-term\\nhealth.\\nThe\\ndietary\\nneeds\\nof\\nadolescents\\nare\\nextensive,\\nrequiring\\ncareful\\nattention\\nto\\nensure\\nthey\\nreceive\\nadequate\\nenergy ,\\nmacronutrients,\\nand\\nmicronutrients\\nto\\nsupport\\ntheir\\ngrowth.\\nEnergy\\nRequirements\\nEnergy\\nneeds\\nduring\\nadolescence\\nare\\nsignificantly\\nhigher\\ncompared\\nto\\nother\\nlife\\nstages\\ndue\\nto\\nrapid\\ngrowth\\nspurts\\nand\\nincreased\\nphysical\\nactivity .\\nThe\\naverage\\ndaily\\nenergy\\nrequirements\\nfor\\nadolescent\\nboys\\naged\\n10-18\\nrange\\nfrom\\n2,200\\nto\\n3,200\\nkilocalories\\n(kcal)\\ndepending\\non\\ntheir\\nactivity\\nlevel,\\nwhile\\nfor\\nadolescent\\ngirls\\naged\\n10-18,\\nit\\nranges\\nfrom\\n2,000\\nto\\n2,400\\nkcal.\\nThese\\nrequirements\\ncan\\nvary\\nsignificantly\\nbased\\non\\nfactors\\nsuch\\nas\\nbody\\nsize,\\ngrowth\\nrate,\\nand\\nphysical\\nactivity .\\nMacronutrient\\nRequirements\\n**Carbohydrates**:\\nCarbohydrates\\nare\\nthe\\nprimary\\nsource\\nof\\nenergy\\nfor\\nadolescents,\\nand\\nthey\\nshould\\nconstitute\\nabout\\n50-60%\\nof\\nthe\\ntotal\\ndaily\\nenergy\\nintake.\\nThis\\ntranslates\\nto\\napproximately\\n275-350\\ngrams\\nof\\ncarbohydrates\\nper\\nday.\\nWhole\\ngrains\\nsuch\\nas\\nbrown\\nrice,\\nwhole\\nwheat,\\noats,\\nand\\nmillets\\nshould\\nbe\\npreferred\\nover\\nrefined\\ngrains.\\nWhole\\ngrains\\nprovide\\nessential\\ndietary\\nfiber ,\\nwhich\\naids\\ndigestion\\nand\\nhelps\\nmaintain\\na\\nhealthy\\nweight.\\n**Proteins**:\\nProteins\\nare\\nvital\\nfor\\nthe\\ngrowth\\nand\\nrepair\\nof\\ntissues.\\nAdolescents\\nneed\\nabout\\n0.85\\ngrams\\nof\\nprotein\\nper\\nkilogram\\nof\\nbody\\nweight\\ndaily .\\nFor\\na\\n50\\nkg\\nadolescent,\\nthis\\nequates\\nto\\naround\\n42.5\\ngrams\\nper\\nday.\\nGood\\nsources\\nof\\nprotein\\ninclude\\nlean\\nmeats,\\npoultry ,\\nfish,\\neggs,\\ndairy\\nproducts,\\nlegumes,\\nand\\nnuts.\\nFor\\nvegetarian\\nadolescents,\\ncombining\\ndifferent\\nplant-based\\nproteins\\nsuch\\nas\\nbeans,\\nlentils,\\nand\\nsoy\\nproducts\\ncan\\nensure\\nthey\\nreceive\\nall\\nessential\\namino\\nacids.\\n**Fats**:\\nFats\\nare\\ncrucial\\nfor\\nbrain\\ndevelopment,\\nhormone\\nproduction,\\nand\\nthe\\nabsorption\\nof\\nfat-soluble\\nvitamins\\n(A,\\nD,\\nE,\\nK).\\nFats\\nshould\\naccount\\nfor\\n25-35%\\nof\\nthe\\ntotal\\ndaily\\nenergy\\nintake,\\nwhich\\nequates\\nto\\nabout\\n60-80\\ngrams\\nof\\nfat\\nper\\nday.\\nHealthy\\nfats\\nfrom\\nsources\\nsuch\\nas\\nnuts,\\nseeds,\\navocados,\\nand\\noils\\nlike\\nolive\\noil\\nand\\nmustard\\noil\\nare\\nrecommended.\\nIt\\nis\\nimportant\\nto\\nlimit\\nthe\\nintake\\nof\\nsaturated\\nfats\\nand\\ntrans\\nfats\\nfound\\nin\\nfried\\nfoods,\\nbaked\\ngoods,\\nand\\nprocessed\\nsnacks,\\nas\\nthese\\ncan\\ncontribute\\nto\\nlong-term\\nhealth\\nproblems.', metadata={'source': '/Users/subhanjanbasu/Desktop/local-model/nutritionaladvice.pdf', 'page': 0}),\n",
       " Document(page_content='Micronutrient\\nRequirements\\n**Calcium**:\\nCalcium\\nis\\nessential\\nfor\\nbone\\ndevelopment,\\na\\ncritical\\naspect\\nof\\nadolescent\\ngrowth.\\nAdolescents\\nneed\\n1,300\\nmilligrams\\nof\\ncalcium\\nper\\nday.\\nDairy\\nproducts\\nlike\\nmilk,\\nyogurt,\\nand\\ncheese\\nare\\nexcellent\\nsources\\nof\\ncalcium.\\nFor\\nthose\\nwho\\nare\\nlactose\\nintolerant\\nor\\nvegan,\\nalternatives\\nsuch\\nas\\nfortified\\nplant-based\\nmilks,\\nleafy\\ngreen\\nvegetables,\\nand\\nfortified\\ncereals\\ncan\\nhelp\\nmeet\\ncalcium\\nneeds.\\n**Vitamin\\nD**:\\nVitamin\\nD\\nis\\nnecessary\\nfor\\ncalcium\\nabsorption\\nand\\nbone\\nhealth.\\nAdolescents\\nrequire\\n600\\ninternational\\nunits\\n(IU)\\nof\\nvitamin\\nD\\nper\\nday.\\nSunlight\\nexposure\\nis\\na\\nprimary\\nsource\\nof\\nvitamin\\nD,\\nbut\\nit\\ncan\\nalso\\nbe\\nobtained\\nfrom\\nfortified\\nfoods\\nand\\nsupplements\\nif\\nnecessary .\\n**Iron**:\\nIron\\nis\\ncrucial\\nfor\\nthe\\nproduction\\nof\\nhemoglobin,\\nwhich\\ncarries\\noxygen\\nin\\nthe\\nblood.\\nBoys\\naged\\n14-18\\nneed\\n11\\nmilligrams\\nper\\nday,\\nwhile\\ngirls\\nof\\nthe\\nsame\\nage\\nneed\\n15\\nmilligrams\\nper\\nday\\ndue\\nto\\nmenstruation.\\nIron-rich\\nfoods\\ninclude\\nlean\\nmeats,\\nbeans,\\nlentils,\\nand\\nfortified\\ncereals.\\nConsuming\\nvitamin\\nC-rich\\nfoods\\nlike\\noranges\\nand\\nguavas\\ncan\\nenhance\\niron\\nabsorption.\\n**Vitamin\\nA**:\\nVitamin\\nA\\nis\\nimportant\\nfor\\nvision,\\nimmune\\nfunction,\\nand\\nskin\\nhealth.\\nAdolescents\\nneed\\n900\\nmicrograms\\n(mcg)\\nof\\nvitamin\\nA\\nper\\nday\\nfor\\nboys\\nand\\n700\\nmcg\\nper\\nday\\nfor\\ngirls.\\nGood\\nsources\\ninclude\\ncarrots,\\nsweet\\npotatoes,\\nspinach,\\nand\\nfortified\\nfoods.\\n**Folic\\nAcid\\n(Folate)**:\\nFolate\\nis\\nimportant\\nfor\\nDNA\\nsynthesis\\nand\\ncell\\ndivision.\\nAdolescents\\nneed\\n400\\nmicrograms\\nof\\nfolate\\nper\\nday.\\nSources\\ninclude\\nleafy\\ngreen\\nvegetables,\\nfruits,\\nnuts,\\nand\\nfortified\\ncereals.\\n**Zinc**:\\nZinc\\nsupports\\nimmune\\nfunction\\nand\\ngrowth.\\nAdolescent\\nboys\\nneed\\nabout\\n11\\nmilligrams\\nper\\nday,\\nwhile\\ngirls\\nneed\\n9\\nmilligrams\\nper\\nday.\\nSources\\nof\\nzinc\\ninclude\\nmeat,\\nshellfish,\\nlegumes,\\nseeds,\\nand\\nnuts.\\n**Magnesium**:\\nMagnesium\\nis\\nimportant\\nfor\\nmuscle\\nand\\nnerve\\nfunction.\\nAdolescents\\nneed\\naround\\n410\\nmilligrams\\nper\\nday\\nfor\\nboys\\nand\\n360\\nmilligrams\\nper\\nday\\nfor\\ngirls.\\nSources\\ninclude\\nnuts,\\nseeds,\\nwhole\\ngrains,\\nand\\ngreen\\nleafy\\nvegetables.\\n**Iodine**:\\nIodine\\nis\\nessential\\nfor\\nthyroid\\nfunction\\nand\\nmetabolic\\nregulation.\\nAdolescents\\nneed\\n150\\nmicrograms\\nof\\niodine\\nper\\nday.\\nSources\\ninclude\\niodized\\nsalt,\\ndairy\\nproducts,\\nand\\nseafood.', metadata={'source': '/Users/subhanjanbasu/Desktop/local-model/nutritionaladvice.pdf', 'page': 1}),\n",
       " Document(page_content='Hydration\\nProper\\nhydration\\nis\\ncrucial\\nfor\\nmaintaining\\noverall\\nhealth\\nand\\nsupporting\\nbodily\\nfunctions\\nsuch\\nas\\ndigestion,\\ntemperature\\nregulation,\\nand\\ncognitive\\nfunction.\\nAdolescents\\nshould\\naim\\nto\\ndrink\\nat\\nleast\\n8-10\\ncups\\n(2-2.5\\nliters)\\nof\\nwater\\ndaily .\\nThis\\nrequirement\\nincreases\\nwith\\nphysical\\nactivity\\nand\\nin\\nhot\\nclimates.\\nAdolescents\\nshould\\nbe\\nencouraged\\nto\\ndrink\\nwater\\nregularly\\nthroughout\\nthe\\nday\\nand\\nlimit\\nthe\\nintake\\nof\\nsugary\\nbeverages\\nand\\ncaffeinated\\ndrinks,\\nwhich\\ncan\\ncontribute\\nto\\ndehydration\\nand\\nprovide\\nempty\\ncalories.\\nPhysical\\nActivity\\nIn\\naddition\\nto\\na\\nbalanced\\ndiet,\\nregular\\nphysical\\nactivity\\nis\\nessential\\nfor\\nadolescents.\\nIt\\npromotes\\nhealthy\\ngrowth,\\nimproves\\ncardiovascular\\nhealth,\\nstrengthens\\nmuscles\\nand\\nbones,\\nand\\nhelps\\nmanage\\nstress.\\nAdolescents\\nshould\\nengage\\nin\\nat\\nleast\\n60\\nminutes\\nof\\nmoderate\\nto\\nvigorous\\nphysical\\nactivity\\nevery\\nday.\\nThis\\ncan\\ninclude\\nactivities\\nsuch\\nas\\nsports,\\nrunning,\\ncycling,\\nswimming,\\nor\\neven\\nbrisk\\nwalking.\\nEncouraging\\nparticipation\\nin\\nschool\\nsports,\\ncommunity\\nleagues,\\nor\\nfamily\\nactivities\\ncan\\nhelp\\nadolescents\\nincorporate\\nphysical\\nactivity\\ninto\\ntheir\\ndaily\\nroutine.\\nHealthy\\nEating\\nBehaviors\\nDeveloping\\nhealthy\\neating\\nhabits\\nduring\\nadolescence\\nis\\ncrucial\\nfor\\nlong-term\\nhealth.\\nAdolescents\\nshould\\nbe\\nencouraged\\nto:\\n-\\n**Have\\nregular\\nmeals**:\\nSkipping\\nmeals,\\nespecially\\nbreakfast,\\ncan\\nlead\\nto\\novereating\\nlater\\nin\\nthe\\nday\\nand\\npoor\\nconcentration.\\nA\\nnutritious\\nbreakfast\\ncan\\nprovide\\nenergy\\nand\\nimprove\\ncognitive\\nfunction.\\n-\\n**Choose\\nwhole\\ngrains\\nover\\nrefined\\ngrains**:\\nWhole\\ngrains\\nprovide\\nmore\\nnutrients\\nand\\nfiber ,\\nwhich\\ncan\\nhelp\\nwith\\ndigestion\\nand\\nweight\\nmanagement.\\n-\\n**Include\\na\\nvariety\\nof\\nfruits\\nand\\nvegetables**:\\nAiming\\nfor\\nat\\nleast\\n5\\nservings\\nof\\nfruits\\nand\\nvegetables\\nper\\nday\\ncan\\nprovide\\nessential\\nvitamins,\\nminerals,\\nand\\nfiber .\\n-\\n**Limit\\nthe\\nintake\\nof\\njunk\\nfood,\\nsugary\\nsnacks,\\nand\\nbeverages**:\\nThese\\nfoods\\nare\\nhigh\\nin\\nempty\\ncalories,\\nsugars,\\nand\\nunhealthy\\nfats,\\nwhich\\ncan\\ncontribute\\nto\\nobesity\\nand\\nother\\nhealth\\nproblems.\\n-\\n**Eat\\nmeals\\nwith\\nfamily**:\\nFamily\\nmeals\\nprovide\\nan\\nopportunity\\nto\\nmodel\\nhealthy\\neating\\nbehaviors,\\nmonitor\\nfood\\nintake,\\nand\\nencourage\\ncommunication.\\nSpecial\\nConsiderations\\nfor\\nAdolescent\\nGirls\\nAdolescent\\ngirls\\nhave\\nspecific\\nnutritional\\nneeds,\\nparticularly\\ndue\\nto\\nthe\\nonset\\nof\\nmenstruation.\\nThey\\nrequire\\nadditional\\niron\\nto\\ncompensate\\nfor\\nmenstrual\\nblood\\nloss\\nand\\nprevent\\nanemia.\\nIncluding\\niron-rich\\nfoods\\nin\\ntheir\\ndiet\\nand\\nensuring\\nadequate\\nintake\\nof\\nvitamin\\nC\\nto\\nenhance\\niron\\nabsorption\\nis\\nessential.\\nCalcium\\nand\\nvitamin\\nD', metadata={'source': '/Users/subhanjanbasu/Desktop/local-model/nutritionaladvice.pdf', 'page': 2}),\n",
       " Document(page_content=\"are\\nalso\\ncritical\\nfor\\nbone\\nhealth,\\nespecially\\nas\\ngirls\\napproach\\nthe\\npeak\\nbone\\nmass\\nage.\\nMaintaining\\na\\nbalanced\\ndiet\\nwith\\nsufficient\\nnutrients\\ncan\\nhelp\\nmanage\\nmenstrual\\nsymptoms\\nand\\nsupport\\noverall\\nhealth.\\nAddressing\\nNutritional\\nDeficiencies\\nNutritional\\ndeficiencies\\nduring\\nadolescence\\ncan\\nhave\\nlong-lasting\\neffects\\non\\nhealth.\\nCommon\\ndeficiencies\\ninclude\\niron,\\nvitamin\\nD,\\ncalcium,\\nand\\nvitamin\\nA.\\nIt\\nis\\nimportant\\nto\\nmonitor\\nadolescents'\\ndietary\\nintake\\nand\\naddress\\nany\\ndeficiencies\\nthrough\\ndiet\\nor\\nsupplements.\\nRegular\\nhealth\\ncheck-ups\\ncan\\nhelp\\nidentify\\nand\\nmanage\\ndeficiencies\\nearly .\\nNutrition\\nEducation\\nNutrition\\neducation\\nshould\\nbe\\nan\\nintegral\\npart\\nof\\nthe\\nschool\\ncurriculum\\nto\\nempower\\nadolescents\\nwith\\nthe\\nknowledge\\nto\\nmake\\nhealthy\\nfood\\nchoices.\\nTopics\\nsuch\\nas\\nbalanced\\ndiets,\\nreading\\nfood\\nlabels,\\nunderstanding\\nportion\\nsizes,\\nand\\nthe\\nimportance\\nof\\nphysical\\nactivity\\ncan\\nbe\\nincluded\\nin\\nhealth\\neducation\\nprograms.\\nCommunity-based\\nprograms\\nand\\ncampaigns\\ncan\\nfurther\\nsupport\\nhealthy\\nbehaviors\\nby\\npromoting\\naccess\\nto\\nnutritious\\nfoods\\nand\\ncreating\\na\\nsupportive\\nenvironment.\\nCultural\\nand\\nSocioeconomic\\nFactors\\nCultural\\nand\\nsocioeconomic\\nfactors\\nplay\\na\\nsignificant\\nrole\\nin\\ndietary\\nhabits\\nand\\nnutritional\\nstatus.\\nTraditional\\ndiets,\\nfood\\navailability ,\\nand\\nfamily\\nincome\\ncan\\ninfluence\\nfood\\nchoices\\nand\\neating\\npatterns.\\nIt\\nis\\nimportant\\nto\\nconsider\\nthese\\nfactors\\nwhen\\ndeveloping\\nnutrition\\nprograms\\nand\\npolicies.\\nProviding\\naffordable\\nand\\naccessible\\nhealthy\\nfood\\noptions,\\nand\\npromoting\\nculturally\\nappropriate\\ndietary\\nguidelines,\\ncan\\nhelp\\nimprove\\nthe\\nnutritional\\nstatus\\nof\\nadolescents.\\nThe\\nRole\\nof\\nFamilies\\nand\\nCommunities\\nFamilies\\nand\\ncommunities\\nplay\\na\\ncrucial\\nrole\\nin\\nsupporting\\nadolescents'\\nnutrition\\nand\\nhealth.\\nParents\\nand\\ncaregivers\\ncan\\ninfluence\\nadolescents'\\nfood\\nchoices\\nand\\neating\\nhabits\\nby\\nproviding\\nnutritious\\nmeals,\\nsetting\\na\\npositive\\nexample,\\nand\\nencouraging\\nhealthy\\nbehaviors.\\nSchools\\nand\\ncommunity\\norganizations\\ncan\\nsupport\\nnutrition\\neducation,\\nprovide\\nhealthy\\nmeals,\\nand\\ncreate\\nenvironments\\nthat\\npromote\\nphysical\\nactivity\\nand\\nhealthy\\neating.\\nConclusion\\nThe\\ndietary\\nneeds\\nof\\nyoung\\nadolescents\\nare\\nextensive\\nand\\ndiverse.\\nEnsuring\\nthat\\nthey\\nreceive\\nadequate\\nnutrition\\nthrough\\nbalanced\\nmeals\\nrich\\nin\\nessential\\nnutrients\\nis\", metadata={'source': '/Users/subhanjanbasu/Desktop/local-model/nutritionaladvice.pdf', 'page': 3}),\n",
       " Document(page_content='crucial\\nfor\\ntheir\\ngrowth,\\ndevelopment,\\nand\\nlong-term\\nhealth.\\nPromoting\\nphysical\\nactivity\\nand\\nhealthy\\neating\\nhabits,\\naddressing\\nnutritional\\ndeficiencies,\\nand\\nproviding\\nnutrition\\neducation\\ncan\\nsupport\\nthe\\noptimal\\ngrowth\\nand\\ndevelopment\\nof\\nyoung\\nadolescents.\\nBy\\ncreating\\nsupportive\\nenvironments\\nand\\naddressing\\ncultural\\nand\\nsocioeconomic\\nfactors,\\nwe\\ncan\\nhelp\\nadolescents\\nmake\\nhealthier\\nchoices\\nand\\nestablish\\na\\nfoundation\\nfor\\na\\nhealthy\\nfuture.', metadata={'source': '/Users/subhanjanbasu/Desktop/local-model/nutritionaladvice.pdf', 'page': 4})]"
      ]
     },
     "execution_count": 13,
     "metadata": {},
     "output_type": "execute_result"
    }
   ],
   "source": [
    "from langchain_community.document_loaders import PyPDFLoader\n",
    "\n",
    "loader = PyPDFLoader(\"/Users/subhanjanbasu/Desktop/local-model/nutritionaladvice.pdf\")\n",
    "pages = loader.load_and_split()\n",
    "pages"
   ]
  },
  {
   "cell_type": "code",
   "execution_count": 14,
   "metadata": {},
   "outputs": [
    {
     "name": "stdout",
     "output_type": "stream",
     "text": [
      "Page 1:\n",
      "Nutritional Advice for Young Adolescents (Boys and Girls) Adolescence, spanning the ages of 10 to 19, is a critical period marked by rapid growth and numerous physical, emotional, and cognitive changes. Proper nutrition during this time is paramount to support this development and establish a foundation for long-term health. The dietary needs of adolescents are extensive, requiring careful attention to ensure they receive adequate energy , macronutrients, and micronutrients to support their growth. Energy Requirements Energy needs during adolescence are significantly higher compared to other life stages due to rapid growth spurts and increased physical activity . The average daily energy requirements for adolescent boys aged 10-18 range from 2,200 to 3,200 kilocalories (kcal) depending on their activity level, while for adolescent girls aged 10-18, it ranges from 2,000 to 2,400 kcal. These requirements can vary significantly based on factors such as body size, growth rate, and physical activity . Macronutrient Requirements **Carbohydrates**: Carbohydrates are the primary source of energy for adolescents, and they should constitute about 50-60% of the total daily energy intake. This translates to approximately 275-350 grams of carbohydrates per day. Whole grains such as brown rice, whole wheat, oats, and millets should be preferred over refined grains. Whole grains provide essential dietary fiber , which aids digestion and helps maintain a healthy weight. **Proteins**: Proteins are vital for the growth and repair of tissues. Adolescents need about 0.85 grams of protein per kilogram of body weight daily . For a 50 kg adolescent, this equates to around 42.5 grams per day. Good sources of protein include lean meats, poultry , fish, eggs, dairy products, legumes, and nuts. For vegetarian adolescents, combining different plant-based proteins such as beans, lentils, and soy products can ensure they receive all essential amino acids. **Fats**: Fats are crucial for brain development, hormone production, and the absorption of fat-soluble vitamins (A, D, E, K). Fats should account for 25-35% of the total daily energy intake, which equates to about 60-80 grams of fat per day. Healthy fats from sources such as nuts, seeds, avocados, and oils like olive oil and mustard oil are recommended. It is important to limit the intake of saturated fats and trans fats found in fried foods, baked goods, and processed snacks, as these can contribute to long-term health problems.\n",
      "\n",
      "Page 2:\n",
      "Micronutrient Requirements **Calcium**: Calcium is essential for bone development, a critical aspect of adolescent growth. Adolescents need 1,300 milligrams of calcium per day. Dairy products like milk, yogurt, and cheese are excellent sources of calcium. For those who are lactose intolerant or vegan, alternatives such as fortified plant-based milks, leafy green vegetables, and fortified cereals can help meet calcium needs. **Vitamin D**: Vitamin D is necessary for calcium absorption and bone health. Adolescents require 600 international units (IU) of vitamin D per day. Sunlight exposure is a primary source of vitamin D, but it can also be obtained from fortified foods and supplements if necessary . **Iron**: Iron is crucial for the production of hemoglobin, which carries oxygen in the blood. Boys aged 14-18 need 11 milligrams per day, while girls of the same age need 15 milligrams per day due to menstruation. Iron-rich foods include lean meats, beans, lentils, and fortified cereals. Consuming vitamin C-rich foods like oranges and guavas can enhance iron absorption. **Vitamin A**: Vitamin A is important for vision, immune function, and skin health. Adolescents need 900 micrograms (mcg) of vitamin A per day for boys and 700 mcg per day for girls. Good sources include carrots, sweet potatoes, spinach, and fortified foods. **Folic Acid (Folate)**: Folate is important for DNA synthesis and cell division. Adolescents need 400 micrograms of folate per day. Sources include leafy green vegetables, fruits, nuts, and fortified cereals. **Zinc**: Zinc supports immune function and growth. Adolescent boys need about 11 milligrams per day, while girls need 9 milligrams per day. Sources of zinc include meat, shellfish, legumes, seeds, and nuts. **Magnesium**: Magnesium is important for muscle and nerve function. Adolescents need around 410 milligrams per day for boys and 360 milligrams per day for girls. Sources include nuts, seeds, whole grains, and green leafy vegetables. **Iodine**: Iodine is essential for thyroid function and metabolic regulation. Adolescents need 150 micrograms of iodine per day. Sources include iodized salt, dairy products, and seafood.\n",
      "\n",
      "Page 3:\n",
      "Hydration Proper hydration is crucial for maintaining overall health and supporting bodily functions such as digestion, temperature regulation, and cognitive function. Adolescents should aim to drink at least 8-10 cups (2-2.5 liters) of water daily . This requirement increases with physical activity and in hot climates. Adolescents should be encouraged to drink water regularly throughout the day and limit the intake of sugary beverages and caffeinated drinks, which can contribute to dehydration and provide empty calories. Physical Activity In addition to a balanced diet, regular physical activity is essential for adolescents. It promotes healthy growth, improves cardiovascular health, strengthens muscles and bones, and helps manage stress. Adolescents should engage in at least 60 minutes of moderate to vigorous physical activity every day. This can include activities such as sports, running, cycling, swimming, or even brisk walking. Encouraging participation in school sports, community leagues, or family activities can help adolescents incorporate physical activity into their daily routine. Healthy Eating Behaviors Developing healthy eating habits during adolescence is crucial for long-term health. Adolescents should be encouraged to: - **Have regular meals**: Skipping meals, especially breakfast, can lead to overeating later in the day and poor concentration. A nutritious breakfast can provide energy and improve cognitive function. - **Choose whole grains over refined grains**: Whole grains provide more nutrients and fiber , which can help with digestion and weight management. - **Include a variety of fruits and vegetables**: Aiming for at least 5 servings of fruits and vegetables per day can provide essential vitamins, minerals, and fiber . - **Limit the intake of junk food, sugary snacks, and beverages**: These foods are high in empty calories, sugars, and unhealthy fats, which can contribute to obesity and other health problems. - **Eat meals with family**: Family meals provide an opportunity to model healthy eating behaviors, monitor food intake, and encourage communication. Special Considerations for Adolescent Girls Adolescent girls have specific nutritional needs, particularly due to the onset of menstruation. They require additional iron to compensate for menstrual blood loss and prevent anemia. Including iron-rich foods in their diet and ensuring adequate intake of vitamin C to enhance iron absorption is essential. Calcium and vitamin D\n",
      "\n",
      "Page 4:\n",
      "are also critical for bone health, especially as girls approach the peak bone mass age. Maintaining a balanced diet with sufficient nutrients can help manage menstrual symptoms and support overall health. Addressing Nutritional Deficiencies Nutritional deficiencies during adolescence can have long-lasting effects on health. Common deficiencies include iron, vitamin D, calcium, and vitamin A. It is important to monitor adolescents' dietary intake and address any deficiencies through diet or supplements. Regular health check-ups can help identify and manage deficiencies early . Nutrition Education Nutrition education should be an integral part of the school curriculum to empower adolescents with the knowledge to make healthy food choices. Topics such as balanced diets, reading food labels, understanding portion sizes, and the importance of physical activity can be included in health education programs. Community-based programs and campaigns can further support healthy behaviors by promoting access to nutritious foods and creating a supportive environment. Cultural and Socioeconomic Factors Cultural and socioeconomic factors play a significant role in dietary habits and nutritional status. Traditional diets, food availability , and family income can influence food choices and eating patterns. It is important to consider these factors when developing nutrition programs and policies. Providing affordable and accessible healthy food options, and promoting culturally appropriate dietary guidelines, can help improve the nutritional status of adolescents. The Role of Families and Communities Families and communities play a crucial role in supporting adolescents' nutrition and health. Parents and caregivers can influence adolescents' food choices and eating habits by providing nutritious meals, setting a positive example, and encouraging healthy behaviors. Schools and community organizations can support nutrition education, provide healthy meals, and create environments that promote physical activity and healthy eating. Conclusion The dietary needs of young adolescents are extensive and diverse. Ensuring that they receive adequate nutrition through balanced meals rich in essential nutrients is\n",
      "\n",
      "Page 5:\n",
      "crucial for their growth, development, and long-term health. Promoting physical activity and healthy eating habits, addressing nutritional deficiencies, and providing nutrition education can support the optimal growth and development of young adolescents. By creating supportive environments and addressing cultural and socioeconomic factors, we can help adolescents make healthier choices and establish a foundation for a healthy future.\n",
      "\n"
     ]
    }
   ],
   "source": [
    "def clean_text(documents):\n",
    "    cleaned_text = []\n",
    "    for page in documents:\n",
    "        # Replace multiple newlines with a single space\n",
    "        text = page.page_content.replace('\\n', ' ')\n",
    "        # Replace multiple spaces with a single space\n",
    "        text = ' '.join(text.split())\n",
    "        cleaned_text.append(text)\n",
    "    return cleaned_text\n",
    "\n",
    "# Clean the text from the pages\n",
    "cleaned_pages = clean_text(pages)\n",
    "\n",
    "# Print the cleaned text for each page\n",
    "for i, page in enumerate(cleaned_pages):\n",
    "    print(f\"Page {i+1}:\\n{page}\\n\")\n"
   ]
  },
  {
   "cell_type": "code",
   "execution_count": 18,
   "metadata": {},
   "outputs": [],
   "source": [
    "from langchain.prompts import PromptTemplate\n",
    "\n",
    "template = \"\"\"\n",
    "Answer the question based on the context below. If you can't \n",
    "answer the question, reply \"I don't know\".\n",
    "\n",
    "Context: {context}\n",
    "\n",
    "Question: {question}\n",
    "\"\"\"\n",
    "\n",
    "prompt = PromptTemplate.from_template(template)"
   ]
  },
  {
   "cell_type": "code",
   "execution_count": 15,
   "metadata": {},
   "outputs": [],
   "source": [
    "from langchain_community.vectorstores import DocArrayInMemorySearch\n",
    "from langchain_community.embeddings import OllamaEmbeddings\n",
    "\n",
    "embeddings = OllamaEmbeddings(model=MODEL)\n",
    "vectorstore = DocArrayInMemorySearch.from_documents(cleaned_pages, embedding=embeddings)"
   ]
  },
  {
   "cell_type": "code",
   "execution_count": 16,
   "metadata": {},
   "outputs": [],
   "source": [
    "retriever = vectorstore.as_retriever()"
   ]
  },
  {
   "cell_type": "code",
   "execution_count": 19,
   "metadata": {},
   "outputs": [],
   "source": [
    "from operator import itemgetter\n",
    "\n",
    "chain = (\n",
    "    {\n",
    "        \"context\": itemgetter(\"question\") | retriever,\n",
    "        \"question\": itemgetter(\"question\"),\n",
    "    }\n",
    "    | prompt\n",
    "    | model\n",
    ")"
   ]
  },
  {
   "cell_type": "code",
   "execution_count": 20,
   "metadata": {},
   "outputs": [
    {
     "name": "stdout",
     "output_type": "stream",
     "text": [
      "Question: What is the daily energy requirements for adolescent boys?\n",
      "Answer: According to the World Health Organization (WHO), the estimated daily energy requirements for adolescent boys are as follows:\n",
      "\n",
      "* For sedentary males (little or no physical activity): 1700-2000 kilocalories (kcal) per day\n",
      "* For moderately active males (light physical activity): 2000-2400 kcal/day\n",
      "* For highly active males (heavy physical activity): 2400-3000 kcal/day\n",
      "\n",
      "It's important to note that these are general estimates and can vary depending on factors such as body size, growth rate, and overall health status. Additionally, the dietary needs of adolescent boys may differ from those of girls due to differences in their physiology and metabolism.\n",
      "\n",
      "It's also worth noting that these estimates are based on the energy requirements for physical growth and development, and do not take into account any additional energy needs for things like sports and other activities. As such, it's important for adolescent boys to engage in regular physical activity to support their overall health and well-being.\n",
      "\n"
     ]
    }
   ],
   "source": [
    "questions = [\n",
    "    \"What is the daily energy requirements for adolescent boys?\"\n",
    "]\n",
    "\n",
    "for question in questions:\n",
    "    print(f\"Question: {question}\")\n",
    "    print(f\"Answer: {chain.invoke({'question': question})}\")\n",
    "    print()"
   ]
  },
  {
   "cell_type": "code",
   "execution_count": null,
   "metadata": {},
   "outputs": [],
   "source": []
  }
 ],
 "metadata": {
  "kernelspec": {
   "display_name": "Python 3.9.6 ('rag': venv)",
   "language": "python",
   "name": "python3"
  },
  "language_info": {
   "codemirror_mode": {
    "name": "ipython",
    "version": 3
   },
   "file_extension": ".py",
   "mimetype": "text/x-python",
   "name": "python",
   "nbconvert_exporter": "python",
   "pygments_lexer": "ipython3",
   "version": "3.9.6"
  },
  "orig_nbformat": 4,
  "vscode": {
   "interpreter": {
    "hash": "9f224c47d4d0722df8ffff6184683a7c57531b7dba781f98b41c88eb00c22b6f"
   }
  }
 },
 "nbformat": 4,
 "nbformat_minor": 2
}
